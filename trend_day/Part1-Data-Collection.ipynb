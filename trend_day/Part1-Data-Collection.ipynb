{
 "cells": [
  {
   "cell_type": "markdown",
   "metadata": {},
   "source": [
    "<a href=\"https://www.quantrocket.com\"><img alt=\"QuantRocket logo\" src=\"https://www.quantrocket.com/assets/img/notebook-header-logo.png\"></a>\n",
    "\n",
    "<a href=\"https://www.quantrocket.com/disclaimer/\">Disclaimer</a>"
   ]
  },
  {
   "cell_type": "markdown",
   "metadata": {},
   "source": [
    "# Data Collection\n",
    "\n",
    "The data collection process consists of collecting US stock listings, creating a universe of leveraged ETFs, then collecting 1 minute bars for the leveraged ETFs."
   ]
  },
  {
   "cell_type": "markdown",
   "metadata": {},
   "source": [
    "## Collect ETF listings\n",
    "\n",
    "First collect US Stock listings:"
   ]
  },
  {
   "cell_type": "code",
   "execution_count": 1,
   "metadata": {},
   "outputs": [
    {
     "data": {
      "text/plain": [
       "{'status': 'success', 'msg': 'successfully loaded US stock listings'}"
      ]
     },
     "execution_count": 1,
     "metadata": {},
     "output_type": "execute_result"
    }
   ],
   "source": [
    "from quantrocket.master import collect_usstock_listings\n",
    "collect_usstock_listings()"
   ]
  },
  {
   "cell_type": "markdown",
   "metadata": {},
   "source": [
    "## Define universe of leveraged ETFs \n",
    "\n",
    "Next we download a CSV of several leveraged ETFs:"
   ]
  },
  {
   "cell_type": "code",
   "execution_count": 2,
   "metadata": {},
   "outputs": [],
   "source": [
    "from quantrocket.master import download_master_file\n",
    "download_master_file(\n",
    "    \"leveraged_etfs.csv\",\n",
    "    exchanges=\"ARCX\",\n",
    "    sec_types=\"ETF\", \n",
    "    symbols=[\n",
    "        \"SPXL\", # DIREXION DLY S&P 500 BULL 3X\n",
    "        \"TNA\",  # DIREXION DLY SM CAP BULL 3X\n",
    "        \"ERX\",  # DIREXION DLY ENERGY BULL 3X\n",
    "        \"TMF\",  # DRX DLY 20+ YR TREAS BULL 3X\n",
    "        \"UPRO\", # PROSHARES ULTRAPRO S&P 500\n",
    "        \"DRN\",  # DRX DLY REAL ESTATE BULL 3X\n",
    "        \"YINN\", # DRX DLY FTSE CHINA BULL 3X\n",
    "        \"UDOW\", # PROSHARES ULTRAPRO DOW30\n",
    "        \"URTY\", # PROSHARES ULTRAPRO RUSS2000\n",
    "        \"FAS\",  # DIREXION DAILY FIN BULL 3X\n",
    "        \"EDC\",  # DIREXION DLY EMG MKT BULL 3X\n",
    "        \"RUSL\", # DIREXION DLY RUSSIA BULL 3X\n",
    "        \"JNUG\", # DIREXION DLY JR GOLD BULL 3X\n",
    "        \"NUGT\", # DRX DLY GOLD MINERS BULL 3X\n",
    "    ])"
   ]
  },
  {
   "cell_type": "markdown",
   "metadata": {},
   "source": [
    "Then upload the CSV to create the \"leveraged-etf\" universe:"
   ]
  },
  {
   "cell_type": "code",
   "execution_count": 3,
   "metadata": {},
   "outputs": [
    {
     "data": {
      "text/plain": [
       "{'code': 'leveraged-etf',\n",
       " 'provided': 14,\n",
       " 'inserted': 14,\n",
       " 'total_after_insert': 14}"
      ]
     },
     "execution_count": 3,
     "metadata": {},
     "output_type": "execute_result"
    }
   ],
   "source": [
    "from quantrocket.master import create_universe\n",
    "create_universe(\"leveraged-etf\", infilepath_or_buffer=\"leveraged_etfs.csv\")"
   ]
  },
  {
   "cell_type": "markdown",
   "metadata": {},
   "source": [
    "## Collect historical data\n",
    "\n",
    "Next, we create a Zipline bundle for collecting 1-min bars."
   ]
  },
  {
   "cell_type": "code",
   "execution_count": 4,
   "metadata": {},
   "outputs": [
    {
     "data": {
      "text/plain": [
       "{'status': 'success', 'msg': 'successfully created usstock-1min bundle'}"
      ]
     },
     "execution_count": 4,
     "metadata": {},
     "output_type": "execute_result"
    }
   ],
   "source": [
    "from quantrocket.zipline import create_usstock_bundle\n",
    "create_usstock_bundle(\"usstock-1min\")"
   ]
  },
  {
   "cell_type": "markdown",
   "metadata": {},
   "source": [
    "Then collect the data for the leveraged ETFs:"
   ]
  },
  {
   "cell_type": "code",
   "execution_count": 5,
   "metadata": {},
   "outputs": [
    {
     "data": {
      "text/plain": [
       "{'status': 'the data will be ingested asynchronously'}"
      ]
     },
     "execution_count": 5,
     "metadata": {},
     "output_type": "execute_result"
    }
   ],
   "source": [
    "from quantrocket.zipline import ingest_bundle\n",
    "ingest_bundle(\"usstock-1min\", universes=\"leveraged-etf\")"
   ]
  },
  {
   "cell_type": "markdown",
   "metadata": {},
   "source": [
    "Monitor flightlog for completion:\n",
    "\n",
    "```\n",
    "quantrocket.zipline: INFO [usstock-1min] Collecting minute bars for 14 securities in usstock-1min bundle\n",
    "quantrocket.zipline: INFO [usstock-1min] Collecting daily bars for usstock-1min bundle\n",
    "quantrocket.zipline: INFO [usstock-1min] Collecting adjustments for usstock-1min bundle\n",
    "quantrocket.zipline: INFO [usstock-1min] Collecting assets for usstock-1min bundle\n",
    "quantrocket.zipline: INFO [usstock-1min] Completed collecting data for 14 securities in usstock-1min bundle\n",
    "```"
   ]
  },
  {
   "cell_type": "markdown",
   "metadata": {},
   "source": [
    "***\n",
    "\n",
    "## *Next Up*\n",
    "\n",
    "Part 2: [Moonshot Backtest](Part2-Moonshot-Backtest.ipynb)"
   ]
  }
 ],
 "metadata": {
  "kernelspec": {
   "display_name": "Python 3",
   "language": "python",
   "name": "python3"
  },
  "language_info": {
   "codemirror_mode": {
    "name": "ipython",
    "version": 3
   },
   "file_extension": ".py",
   "mimetype": "text/x-python",
   "name": "python",
   "nbconvert_exporter": "python",
   "pygments_lexer": "ipython3",
   "version": "3.6.6"
  }
 },
 "nbformat": 4,
 "nbformat_minor": 4
}
