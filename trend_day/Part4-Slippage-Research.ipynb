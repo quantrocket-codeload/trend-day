{
 "cells": [
  {
   "cell_type": "markdown",
   "metadata": {},
   "source": [
    "<a href=\"https://www.quantrocket.com\"><img alt=\"QuantRocket logo\" src=\"https://www.quantrocket.com/assets/img/notebook-header-logo.png\"></a>\n",
    "\n",
    "<a href=\"https://www.quantrocket.com/disclaimer/\">Disclaimer</a>"
   ]
  },
  {
   "cell_type": "markdown",
   "metadata": {},
   "source": [
    "# Slippage Research\n",
    "\n",
    "The provided trading strategy code models one-way slippage of 3 basis points (see the `SLIPPAGE_BPS` parameter). This notebook investigates spreads with more precision, as they vary by leveraged ETF. To do so, we collect 1 month of bid/ask data for the leveraged ETFs and calculate the spreads at 2:15 PM (the time we enter positions).\n",
    "\n",
    "Spread analysis uses data from Interactive Brokers.\n"
   ]
  },
  {
   "cell_type": "markdown",
   "metadata": {},
   "source": [
    "## Data collection\n",
    "First, create a database for the historical data:"
   ]
  },
  {
   "cell_type": "code",
   "execution_count": 1,
   "metadata": {},
   "outputs": [
    {
     "data": {
      "text/plain": [
       "{'status': 'successfully created quantrocket.v2.history.leveraged-etf-quotes-1min.sqlite'}"
      ]
     },
     "execution_count": 1,
     "metadata": {},
     "output_type": "execute_result"
    }
   ],
   "source": [
    "from quantrocket.history import create_ibkr_db\n",
    "create_ibkr_db(\"leveraged-etf-quotes-1min\", \n",
    "              universes=\"leveraged-etf\", \n",
    "              bar_size=\"1 min\", \n",
    "              bar_type=\"BID_ASK\", \n",
    "              start_date=\"2019-01-01\", \n",
    "              end_date=\"2019-01-31\",\n",
    "              shard=\"off\")"
   ]
  },
  {
   "cell_type": "markdown",
   "metadata": {},
   "source": [
    "Then collect the data:"
   ]
  },
  {
   "cell_type": "code",
   "execution_count": 2,
   "metadata": {},
   "outputs": [
    {
     "data": {
      "text/plain": [
       "{'status': 'the historical data will be collected asynchronously'}"
      ]
     },
     "execution_count": 2,
     "metadata": {},
     "output_type": "execute_result"
    }
   ],
   "source": [
    "from quantrocket.history import collect_history\n",
    "collect_history(\"leveraged-etf-quotes-1min\")"
   ]
  },
  {
   "cell_type": "markdown",
   "metadata": {},
   "source": [
    "Monitor flightlog for the completion message:\n",
    "\n",
    "```\n",
    "quantrocket.history: INFO [leveraged-etf-quotes-1min] Collecting history from IBKR for 14 securities in leveraged-etf-quotes-1min\n",
    "quantrocket.history: INFO [leveraged-etf-quotes-1min] Saved 114660 total records for 14 total securities to quantrocket.v2.history.leveraged-etf-quotes-1min.sqlite\n",
    "```"
   ]
  },
  {
   "cell_type": "markdown",
   "metadata": {},
   "source": [
    "## Spread analysis\n",
    "\n",
    "Now we can load the bid/ask data and check the spreads."
   ]
  },
  {
   "cell_type": "code",
   "execution_count": 3,
   "metadata": {},
   "outputs": [],
   "source": [
    "from quantrocket import get_prices\n",
    "prices = get_prices(\"leveraged-etf-quotes-1min\", fields=[\"Open\",\"Close\"], times=\"14:15:00\")"
   ]
  },
  {
   "cell_type": "markdown",
   "metadata": {},
   "source": [
    "For this bar type, the \"Open\" contains the time-average bid and the \"Close\" contains the time-average ask."
   ]
  },
  {
   "cell_type": "code",
   "execution_count": 4,
   "metadata": {},
   "outputs": [],
   "source": [
    "bids = prices.loc[\"Open\"]\n",
    "asks = prices.loc[\"Close\"]"
   ]
  },
  {
   "cell_type": "markdown",
   "metadata": {},
   "source": [
    "Compute the spreads in basis points:"
   ]
  },
  {
   "cell_type": "code",
   "execution_count": 5,
   "metadata": {},
   "outputs": [],
   "source": [
    "spreads = (asks - bids)\n",
    "spreads_in_bps = (spreads/bids).astype(float)"
   ]
  },
  {
   "cell_type": "markdown",
   "metadata": {},
   "source": [
    "Replace sids with symbols for easier readability:"
   ]
  },
  {
   "cell_type": "code",
   "execution_count": 6,
   "metadata": {},
   "outputs": [],
   "source": [
    "from quantrocket.master import get_securities_reindexed_like\n",
    "symbols = get_securities_reindexed_like(bids, fields=\"Symbol\").loc[\"Symbol\"]\n",
    "symbols = symbols.iloc[0].to_dict()\n",
    "spreads_in_bps = spreads_in_bps.rename(columns=symbols)"
   ]
  },
  {
   "cell_type": "markdown",
   "metadata": {},
   "source": [
    "Finally, check the spreads at 2:15 PM:"
   ]
  },
  {
   "cell_type": "code",
   "execution_count": 7,
   "metadata": {},
   "outputs": [
    {
     "data": {
      "text/plain": [
       "Sid\n",
       "SPXL     3.140246\n",
       "TNA      4.769774\n",
       "ERX      5.654112\n",
       "TMF      5.985715\n",
       "UPRO     4.097632\n",
       "DRN     70.678831\n",
       "YINN     5.168800\n",
       "UDOW     3.957265\n",
       "URTY     9.336790\n",
       "FAS      7.547277\n",
       "EDC     10.734769\n",
       "RUSL    22.694030\n",
       "JNUG    10.018724\n",
       "NUGT     5.738911\n",
       "dtype: float64"
      ]
     },
     "execution_count": 7,
     "metadata": {},
     "output_type": "execute_result"
    }
   ],
   "source": [
    "spreads_in_bps.xs(\"14:15:00\", level=\"Time\").mean() * 1e4"
   ]
  },
  {
   "cell_type": "markdown",
   "metadata": {},
   "source": [
    "The spreads range from 3 basis points to 70 basis points. Because the strategy enters during the trading session and exits on-the-close, we expect to pay half the spread on our entries but we do not expect to incur any slippage on our exits. Thus, we should average the spread of the securities we intend to trade, then divide by 2 since we only expect to pay half the spread, then divide by 2 again since we only expect to incur slippage on our entries, not our exits.  "
   ]
  },
  {
   "cell_type": "markdown",
   "metadata": {},
   "source": [
    "***\n",
    "\n",
    "[Back to Introduction](Introduction.ipynb)"
   ]
  }
 ],
 "metadata": {
  "kernelspec": {
   "display_name": "Python 3",
   "language": "python",
   "name": "python3"
  },
  "language_info": {
   "codemirror_mode": {
    "name": "ipython",
    "version": 3
   },
   "file_extension": ".py",
   "mimetype": "text/x-python",
   "name": "python",
   "nbconvert_exporter": "python",
   "pygments_lexer": "ipython3",
   "version": "3.7.6"
  }
 },
 "nbformat": 4,
 "nbformat_minor": 4
}
