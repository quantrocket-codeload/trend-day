{
 "cells": [
  {
   "cell_type": "markdown",
   "metadata": {},
   "source": [
    "<a href=\"https://www.quantrocket.com\"><img alt=\"QuantRocket logo\" src=\"https://www.quantrocket.com/assets/img/notebook-header-logo.png\"></a>\n",
    "\n",
    "<a href=\"https://www.quantrocket.com/disclaimer/\">Disclaimer</a>"
   ]
  },
  {
   "cell_type": "markdown",
   "metadata": {},
   "source": [
    "# Leveraged ETF Intraday Momentum Strategy\n",
    "\n",
    "This tutorial demonstrates an intraday momentum strategy from Ernie Chan's book *Algorithmic Trading*. The strategy buys (sells) leveraged ETFs late in the trading session following a significant intraday gain (loss) and holds until the close. \n",
    "\n",
    "According to Chan, the rationale for this strategy is that, when the leveraged ETF has a sizable intraday gain, the ETF sponsors are forced to buy additional shares of the underlying securities in order to maintain a constant daily leverage as stipulated by the fund prospectus. This buying further drives up the price heading into the close. A similar process occurs following a sizable intraday decline.  \n",
    "\n",
    "**Source**: Ernie Chan, *Algorithmic Trading: Winning Strategies and Their Rationale*, Wiley, May 28, 2013, chapter 7. "
   ]
  },
  {
   "cell_type": "markdown",
   "metadata": {},
   "source": [
    "* Part 1: [Data Collection](Part1-Data-Collection.ipynb)\n",
    "* Part 2: [Moonshot Backtest](Part2-Moonshot-Backtest.ipynb)\n",
    "* Part 3: [Parameter Scans](Part3-Parameter-Scans.ipynb)\n",
    "* Part 4: [Slippage Research](Part4-Slippage-Research.ipynb)"
   ]
  }
 ],
 "metadata": {
  "kernelspec": {
   "display_name": "Python 3",
   "language": "python",
   "name": "python3"
  },
  "language_info": {
   "codemirror_mode": {
    "name": "ipython",
    "version": 3
   },
   "file_extension": ".py",
   "mimetype": "text/x-python",
   "name": "python",
   "nbconvert_exporter": "python",
   "pygments_lexer": "ipython3",
   "version": "3.7.6"
  }
 },
 "nbformat": 4,
 "nbformat_minor": 4
}
